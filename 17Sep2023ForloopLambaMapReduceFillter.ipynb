{
 "cells": [
  {
   "cell_type": "code",
   "execution_count": null,
   "id": "d7321e7b",
   "metadata": {},
   "outputs": [],
   "source": [
    "type()\n",
    "print()\n",
    "len()\n",
    "range()"
   ]
  },
  {
   "cell_type": "code",
   "execution_count": 2,
   "id": "d39328ce",
   "metadata": {},
   "outputs": [],
   "source": [
    "def test():\n",
    "    print(\"this is my first function\")\n"
   ]
  },
  {
   "cell_type": "code",
   "execution_count": 3,
   "id": "44ac54c5",
   "metadata": {},
   "outputs": [
    {
     "name": "stdout",
     "output_type": "stream",
     "text": [
      "this is my first function\n"
     ]
    }
   ],
   "source": [
    "test()"
   ]
  },
  {
   "cell_type": "code",
   "execution_count": 4,
   "id": "d8b23f07",
   "metadata": {},
   "outputs": [],
   "source": [
    "def test1():\n",
    "    print(\"test\")\n",
    "    "
   ]
  },
  {
   "cell_type": "code",
   "execution_count": 6,
   "id": "be3200e8",
   "metadata": {},
   "outputs": [
    {
     "name": "stdout",
     "output_type": "stream",
     "text": [
      "test\n"
     ]
    },
    {
     "ename": "TypeError",
     "evalue": "unsupported operand type(s) for +: 'NoneType' and 'str'",
     "output_type": "error",
     "traceback": [
      "\u001b[0;31m---------------------------------------------------------------------------\u001b[0m",
      "\u001b[0;31mTypeError\u001b[0m                                 Traceback (most recent call last)",
      "Cell \u001b[0;32mIn[6], line 1\u001b[0m\n\u001b[0;32m----> 1\u001b[0m test1()\u001b[38;5;241m+\u001b[39m\u001b[38;5;124m\"\u001b[39m\u001b[38;5;124mshahah\u001b[39m\u001b[38;5;124m\"\u001b[39m\n",
      "\u001b[0;31mTypeError\u001b[0m: unsupported operand type(s) for +: 'NoneType' and 'str'"
     ]
    }
   ],
   "source": [
    "test1()+\"shahah\""
   ]
  },
  {
   "cell_type": "code",
   "execution_count": 8,
   "id": "5ac23bd0",
   "metadata": {},
   "outputs": [
    {
     "name": "stdout",
     "output_type": "stream",
     "text": [
      "test\n"
     ]
    },
    {
     "data": {
      "text/plain": [
       "NoneType"
      ]
     },
     "execution_count": 8,
     "metadata": {},
     "output_type": "execute_result"
    }
   ],
   "source": [
    "type(test1())"
   ]
  },
  {
   "cell_type": "code",
   "execution_count": 9,
   "id": "4228cab1",
   "metadata": {},
   "outputs": [],
   "source": [
    "def test2():\n",
    "    print(2+3)"
   ]
  },
  {
   "cell_type": "code",
   "execution_count": 11,
   "id": "a3b7fd1b",
   "metadata": {},
   "outputs": [
    {
     "name": "stdout",
     "output_type": "stream",
     "text": [
      "5\n"
     ]
    },
    {
     "ename": "TypeError",
     "evalue": "unsupported operand type(s) for +: 'NoneType' and 'int'",
     "output_type": "error",
     "traceback": [
      "\u001b[0;31m---------------------------------------------------------------------------\u001b[0m",
      "\u001b[0;31mTypeError\u001b[0m                                 Traceback (most recent call last)",
      "Cell \u001b[0;32mIn[11], line 1\u001b[0m\n\u001b[0;32m----> 1\u001b[0m test2()\u001b[38;5;241m+\u001b[39m\u001b[38;5;241m10\u001b[39m\n",
      "\u001b[0;31mTypeError\u001b[0m: unsupported operand type(s) for +: 'NoneType' and 'int'"
     ]
    }
   ],
   "source": [
    "test2()+10"
   ]
  },
  {
   "cell_type": "code",
   "execution_count": 14,
   "id": "c81bbd0d",
   "metadata": {},
   "outputs": [],
   "source": [
    "def test3():\n",
    "    return 1+2"
   ]
  },
  {
   "cell_type": "code",
   "execution_count": 15,
   "id": "bd0fcd6a",
   "metadata": {},
   "outputs": [
    {
     "data": {
      "text/plain": [
       "3"
      ]
     },
     "execution_count": 15,
     "metadata": {},
     "output_type": "execute_result"
    }
   ],
   "source": [
    "test3()"
   ]
  },
  {
   "cell_type": "code",
   "execution_count": 17,
   "id": "cd701580",
   "metadata": {},
   "outputs": [
    {
     "data": {
      "text/plain": [
       "int"
      ]
     },
     "execution_count": 17,
     "metadata": {},
     "output_type": "execute_result"
    }
   ],
   "source": [
    "type(test3())"
   ]
  },
  {
   "cell_type": "code",
   "execution_count": 23,
   "id": "dbcb8544",
   "metadata": {},
   "outputs": [],
   "source": [
    "def test4():\n",
    "    return 2,\"shahahnshah\",True,[1,2,3,4]"
   ]
  },
  {
   "cell_type": "code",
   "execution_count": 24,
   "id": "604699bf",
   "metadata": {},
   "outputs": [
    {
     "data": {
      "text/plain": [
       "(2, 'shahahnshah', True, [1, 2, 3, 4])"
      ]
     },
     "execution_count": 24,
     "metadata": {},
     "output_type": "execute_result"
    }
   ],
   "source": [
    "test4()"
   ]
  },
  {
   "cell_type": "code",
   "execution_count": 25,
   "id": "3d803646",
   "metadata": {},
   "outputs": [],
   "source": [
    "a,b,c,d=1,\"shahahsnah\",534,45"
   ]
  },
  {
   "cell_type": "code",
   "execution_count": 26,
   "id": "56e0d95a",
   "metadata": {},
   "outputs": [],
   "source": [
    "a=11\n",
    "b=\"shahahsnh\"\n",
    "c=534\n",
    "d=45"
   ]
  },
  {
   "cell_type": "code",
   "execution_count": 28,
   "id": "b907cce3",
   "metadata": {},
   "outputs": [
    {
     "name": "stdout",
     "output_type": "stream",
     "text": [
      "11\n"
     ]
    }
   ],
   "source": [
    "print(a)"
   ]
  },
  {
   "cell_type": "code",
   "execution_count": 30,
   "id": "ecafb0d0",
   "metadata": {},
   "outputs": [
    {
     "data": {
      "text/plain": [
       "tuple"
      ]
     },
     "execution_count": 30,
     "metadata": {},
     "output_type": "execute_result"
    }
   ],
   "source": [
    "type(test4())"
   ]
  },
  {
   "cell_type": "code",
   "execution_count": 34,
   "id": "cc4997d6",
   "metadata": {},
   "outputs": [],
   "source": [
    "m,n,o,p=(test4())"
   ]
  },
  {
   "cell_type": "code",
   "execution_count": 35,
   "id": "e603bc7c",
   "metadata": {},
   "outputs": [
    {
     "data": {
      "text/plain": [
       "2"
      ]
     },
     "execution_count": 35,
     "metadata": {},
     "output_type": "execute_result"
    }
   ],
   "source": [
    "m"
   ]
  },
  {
   "cell_type": "code",
   "execution_count": 36,
   "id": "9e1cac41",
   "metadata": {},
   "outputs": [
    {
     "data": {
      "text/plain": [
       "True"
      ]
     },
     "execution_count": 36,
     "metadata": {},
     "output_type": "execute_result"
    }
   ],
   "source": [
    "o"
   ]
  },
  {
   "cell_type": "code",
   "execution_count": 37,
   "id": "f554e42d",
   "metadata": {},
   "outputs": [
    {
     "data": {
      "text/plain": [
       "[1, 2, 3, 4]"
      ]
     },
     "execution_count": 37,
     "metadata": {},
     "output_type": "execute_result"
    }
   ],
   "source": [
    "p"
   ]
  },
  {
   "cell_type": "code",
   "execution_count": 3,
   "id": "88d49202",
   "metadata": {},
   "outputs": [],
   "source": [
    "def test5(x):\n",
    "    return x\n"
   ]
  },
  {
   "cell_type": "code",
   "execution_count": 4,
   "id": "7eb5e25a",
   "metadata": {},
   "outputs": [
    {
     "data": {
      "text/plain": [
       "5"
      ]
     },
     "execution_count": 4,
     "metadata": {},
     "output_type": "execute_result"
    }
   ],
   "source": [
    "test5(5)"
   ]
  },
  {
   "cell_type": "code",
   "execution_count": 6,
   "id": "fc39bedf",
   "metadata": {},
   "outputs": [
    {
     "data": {
      "text/plain": [
       "'shahanshaah'"
      ]
     },
     "execution_count": 6,
     "metadata": {},
     "output_type": "execute_result"
    }
   ],
   "source": [
    "test5(\"shahanshaah\")"
   ]
  },
  {
   "cell_type": "code",
   "execution_count": 7,
   "id": "70593129",
   "metadata": {},
   "outputs": [
    {
     "data": {
      "text/plain": [
       "[1, 2, 3, 4, 4]"
      ]
     },
     "execution_count": 7,
     "metadata": {},
     "output_type": "execute_result"
    }
   ],
   "source": [
    "test5([1,2,3,4,4])"
   ]
  },
  {
   "cell_type": "code",
   "execution_count": 13,
   "id": "bc2a18ec",
   "metadata": {},
   "outputs": [],
   "source": [
    "def test6(x,y):\n",
    "    return x,y"
   ]
  },
  {
   "cell_type": "code",
   "execution_count": 14,
   "id": "d941d604",
   "metadata": {},
   "outputs": [
    {
     "data": {
      "text/plain": [
       "('shahsnah', [1, 2, 3, 3])"
      ]
     },
     "execution_count": 14,
     "metadata": {},
     "output_type": "execute_result"
    }
   ],
   "source": [
    "test6(\"shahsnah\",[1,2,3,3])"
   ]
  },
  {
   "cell_type": "code",
   "execution_count": 16,
   "id": "2e08ea37",
   "metadata": {},
   "outputs": [
    {
     "data": {
      "text/plain": [
       "(4, 5)"
      ]
     },
     "execution_count": 16,
     "metadata": {},
     "output_type": "execute_result"
    }
   ],
   "source": [
    "test6(4,5)"
   ]
  },
  {
   "cell_type": "code",
   "execution_count": 26,
   "id": "4a7512e9",
   "metadata": {},
   "outputs": [],
   "source": [
    "def test7(a:int , b:int):\n",
    "    return a,b"
   ]
  },
  {
   "cell_type": "code",
   "execution_count": 27,
   "id": "60913cc8",
   "metadata": {},
   "outputs": [
    {
     "data": {
      "text/plain": [
       "(4, 5)"
      ]
     },
     "execution_count": 27,
     "metadata": {},
     "output_type": "execute_result"
    }
   ],
   "source": [
    "test7(4,5)"
   ]
  },
  {
   "cell_type": "code",
   "execution_count": 29,
   "id": "4eacd988",
   "metadata": {},
   "outputs": [
    {
     "data": {
      "text/plain": [
       "('shaah', [1, 23, 4, 5, 6])"
      ]
     },
     "execution_count": 29,
     "metadata": {},
     "output_type": "execute_result"
    }
   ],
   "source": [
    "test7(\"shaah\",[1,23,4,5,6,])"
   ]
  },
  {
   "cell_type": "code",
   "execution_count": 30,
   "id": "5d6f954a",
   "metadata": {},
   "outputs": [],
   "source": [
    "def test8(x:int,y:int):\n",
    "    return x/y"
   ]
  },
  {
   "cell_type": "code",
   "execution_count": 33,
   "id": "91b5bfcc",
   "metadata": {},
   "outputs": [
    {
     "data": {
      "text/plain": [
       "51537.98863636364"
      ]
     },
     "execution_count": 33,
     "metadata": {},
     "output_type": "execute_result"
    }
   ],
   "source": [
    "test8(4535343,88)"
   ]
  },
  {
   "cell_type": "code",
   "execution_count": 11,
   "id": "1183a002",
   "metadata": {},
   "outputs": [],
   "source": [
    "def test9(x,y):\n",
    "    return x+y"
   ]
  },
  {
   "cell_type": "code",
   "execution_count": 12,
   "id": "55b98dc4",
   "metadata": {},
   "outputs": [
    {
     "data": {
      "text/plain": [
       "12"
      ]
     },
     "execution_count": 12,
     "metadata": {},
     "output_type": "execute_result"
    }
   ],
   "source": [
    "test9(6,6)"
   ]
  },
  {
   "cell_type": "code",
   "execution_count": 16,
   "id": "b3933ada",
   "metadata": {},
   "outputs": [],
   "source": [
    "def test10(*args):\n",
    "    return args"
   ]
  },
  {
   "cell_type": "code",
   "execution_count": 18,
   "id": "6c802e92",
   "metadata": {},
   "outputs": [
    {
     "data": {
      "text/plain": [
       "()"
      ]
     },
     "execution_count": 18,
     "metadata": {},
     "output_type": "execute_result"
    }
   ],
   "source": [
    "test10()"
   ]
  },
  {
   "cell_type": "code",
   "execution_count": 19,
   "id": "7334c5c9",
   "metadata": {},
   "outputs": [
    {
     "data": {
      "text/plain": [
       "(3, 4, 5, 5, 6, 4, 3)"
      ]
     },
     "execution_count": 19,
     "metadata": {},
     "output_type": "execute_result"
    }
   ],
   "source": [
    "test10(3,4,5,5,6,4,3)"
   ]
  },
  {
   "cell_type": "code",
   "execution_count": 20,
   "id": "a050d8c8",
   "metadata": {},
   "outputs": [
    {
     "data": {
      "text/plain": [
       "('djfd', 'ifjsdif', [2, 3, 4, 5])"
      ]
     },
     "execution_count": 20,
     "metadata": {},
     "output_type": "execute_result"
    }
   ],
   "source": [
    "test10(\"djfd\",\"ifjsdif\",[2,3,4,5])"
   ]
  },
  {
   "cell_type": "code",
   "execution_count": 21,
   "id": "76539237",
   "metadata": {},
   "outputs": [],
   "source": [
    "def test11(*shahanshah):\n",
    "    return shahanshah"
   ]
  },
  {
   "cell_type": "code",
   "execution_count": 22,
   "id": "1f96d0f7",
   "metadata": {},
   "outputs": [
    {
     "data": {
      "text/plain": [
       "('jsk', 'sdjsnds', [2, 3, 4])"
      ]
     },
     "execution_count": 22,
     "metadata": {},
     "output_type": "execute_result"
    }
   ],
   "source": [
    "test11(\"jsk\",\"sdjsnds\",[2,3,4])"
   ]
  },
  {
   "cell_type": "code",
   "execution_count": 23,
   "id": "08d8163f",
   "metadata": {},
   "outputs": [],
   "source": [
    "def test12(**kwargs):\n",
    "    return kwargs"
   ]
  },
  {
   "cell_type": "code",
   "execution_count": 27,
   "id": "2add0153",
   "metadata": {},
   "outputs": [
    {
     "data": {
      "text/plain": [
       "{'a': 5, 'b': 34, 'c': 55}"
      ]
     },
     "execution_count": 27,
     "metadata": {},
     "output_type": "execute_result"
    }
   ],
   "source": [
    "test12(a=5,b=34,c=55)"
   ]
  },
  {
   "cell_type": "code",
   "execution_count": 28,
   "id": "87287f87",
   "metadata": {},
   "outputs": [
    {
     "data": {
      "text/plain": [
       "dict"
      ]
     },
     "execution_count": 28,
     "metadata": {},
     "output_type": "execute_result"
    }
   ],
   "source": [
    "type(test12())"
   ]
  },
  {
   "cell_type": "code",
   "execution_count": 20,
   "id": "dc570150",
   "metadata": {},
   "outputs": [
    {
     "ename": "NameError",
     "evalue": "name 'test12' is not defined",
     "output_type": "error",
     "traceback": [
      "\u001b[0;31m---------------------------------------------------------------------------\u001b[0m",
      "\u001b[0;31mNameError\u001b[0m                                 Traceback (most recent call last)",
      "Cell \u001b[0;32mIn[20], line 1\u001b[0m\n\u001b[0;32m----> 1\u001b[0m test12(n\u001b[38;5;241m=\u001b[39m{\u001b[38;5;124m'\u001b[39m\u001b[38;5;124ma\u001b[39m\u001b[38;5;124m'\u001b[39m: \u001b[38;5;241m5\u001b[39m, \u001b[38;5;124m'\u001b[39m\u001b[38;5;124mb\u001b[39m\u001b[38;5;124m'\u001b[39m: \u001b[38;5;241m34\u001b[39m, \u001b[38;5;124m'\u001b[39m\u001b[38;5;124mc\u001b[39m\u001b[38;5;124m'\u001b[39m: \u001b[38;5;241m55\u001b[39m})\n",
      "\u001b[0;31mNameError\u001b[0m: name 'test12' is not defined"
     ]
    }
   ],
   "source": [
    "test12(n={'a': 5, 'b': 34, 'c': 55})"
   ]
  },
  {
   "cell_type": "code",
   "execution_count": 13,
   "id": "cb95d957",
   "metadata": {},
   "outputs": [],
   "source": [
    "def test13(b,a=10,c=20) :\n",
    "    return a,b,c"
   ]
  },
  {
   "cell_type": "code",
   "execution_count": 14,
   "id": "1fb744e4",
   "metadata": {},
   "outputs": [
    {
     "data": {
      "text/plain": [
       "(10, 56, 20)"
      ]
     },
     "execution_count": 14,
     "metadata": {},
     "output_type": "execute_result"
    }
   ],
   "source": [
    "test13(56)"
   ]
  },
  {
   "cell_type": "code",
   "execution_count": 15,
   "id": "4dbbc340",
   "metadata": {},
   "outputs": [
    {
     "data": {
      "text/plain": [
       "(45, 34, 20)"
      ]
     },
     "execution_count": 15,
     "metadata": {},
     "output_type": "execute_result"
    }
   ],
   "source": [
    "test13(34,a=45)"
   ]
  },
  {
   "cell_type": "code",
   "execution_count": 16,
   "id": "892ecbf0",
   "metadata": {},
   "outputs": [],
   "source": [
    "v=test13(4,5,67)"
   ]
  },
  {
   "cell_type": "code",
   "execution_count": 17,
   "id": "0adff107",
   "metadata": {},
   "outputs": [
    {
     "data": {
      "text/plain": [
       "(5, 4, 67)"
      ]
     },
     "execution_count": 17,
     "metadata": {},
     "output_type": "execute_result"
    }
   ],
   "source": [
    "v"
   ]
  },
  {
   "cell_type": "code",
   "execution_count": 18,
   "id": "9ea30d42",
   "metadata": {},
   "outputs": [],
   "source": [
    "def test13(b,a=10,c=20) :\n",
    "    return a,b,c"
   ]
  },
  {
   "cell_type": "code",
   "execution_count": 19,
   "id": "d2054526",
   "metadata": {},
   "outputs": [
    {
     "data": {
      "text/plain": [
       "(10, 56, 20)"
      ]
     },
     "execution_count": 19,
     "metadata": {},
     "output_type": "execute_result"
    }
   ],
   "source": [
    "test13(56)"
   ]
  },
  {
   "cell_type": "code",
   "execution_count": 21,
   "id": "d4f04d92",
   "metadata": {},
   "outputs": [],
   "source": [
    "v=test13(4,5,67)\n"
   ]
  },
  {
   "cell_type": "code",
   "execution_count": 22,
   "id": "4078d0a1",
   "metadata": {},
   "outputs": [
    {
     "data": {
      "text/plain": [
       "(5, 4, 67)"
      ]
     },
     "execution_count": 22,
     "metadata": {},
     "output_type": "execute_result"
    }
   ],
   "source": [
    "v"
   ]
  },
  {
   "cell_type": "code",
   "execution_count": 24,
   "id": "bb1805ce",
   "metadata": {},
   "outputs": [],
   "source": [
    "def test14(a,b):\n",
    "    return a+b"
   ]
  },
  {
   "cell_type": "code",
   "execution_count": 25,
   "id": "1f8d0c06",
   "metadata": {},
   "outputs": [
    {
     "data": {
      "text/plain": [
       "7"
      ]
     },
     "execution_count": 25,
     "metadata": {},
     "output_type": "execute_result"
    }
   ],
   "source": [
    "test14(3,4)"
   ]
  },
  {
   "cell_type": "code",
   "execution_count": 27,
   "id": "ff1faef1",
   "metadata": {},
   "outputs": [],
   "source": [
    "m=lambda a,b:a+b"
   ]
  },
  {
   "cell_type": "code",
   "execution_count": 28,
   "id": "ad9f2ff2",
   "metadata": {},
   "outputs": [
    {
     "data": {
      "text/plain": [
       "<function __main__.<lambda>(a, b)>"
      ]
     },
     "execution_count": 28,
     "metadata": {},
     "output_type": "execute_result"
    }
   ],
   "source": [
    "m"
   ]
  },
  {
   "cell_type": "code",
   "execution_count": 29,
   "id": "97ef3e8b",
   "metadata": {},
   "outputs": [
    {
     "data": {
      "text/plain": [
       "13"
      ]
     },
     "execution_count": 29,
     "metadata": {},
     "output_type": "execute_result"
    }
   ],
   "source": [
    "m(6,7)"
   ]
  },
  {
   "cell_type": "code",
   "execution_count": 30,
   "id": "79d71a15",
   "metadata": {},
   "outputs": [],
   "source": [
    "s=lambda a,b:a+b"
   ]
  },
  {
   "cell_type": "code",
   "execution_count": 31,
   "id": "5d62fd58",
   "metadata": {},
   "outputs": [
    {
     "data": {
      "text/plain": [
       "11"
      ]
     },
     "execution_count": 31,
     "metadata": {},
     "output_type": "execute_result"
    }
   ],
   "source": [
    "m(5,6)"
   ]
  },
  {
   "cell_type": "code",
   "execution_count": 50,
   "id": "9e1c4d8e",
   "metadata": {},
   "outputs": [],
   "source": [
    "def check_even(n):\n",
    "    if n%2==0: \"given number is even\"\n",
    "    else:\n",
    "            return \"given number is even\""
   ]
  },
  {
   "cell_type": "code",
   "execution_count": 52,
   "id": "095693c4",
   "metadata": {},
   "outputs": [
    {
     "data": {
      "text/plain": [
       "'given number is even'"
      ]
     },
     "execution_count": 52,
     "metadata": {},
     "output_type": "execute_result"
    }
   ],
   "source": [
    "check_even(3)"
   ]
  },
  {
   "cell_type": "code",
   "execution_count": 48,
   "id": "51923645",
   "metadata": {},
   "outputs": [],
   "source": [
    "b=lambda n:\"given is an even number\" if n%2==0 else\"given no even\""
   ]
  },
  {
   "cell_type": "code",
   "execution_count": 49,
   "id": "e7db868a",
   "metadata": {},
   "outputs": [
    {
     "data": {
      "text/plain": [
       "'given is an even number'"
      ]
     },
     "execution_count": 49,
     "metadata": {},
     "output_type": "execute_result"
    }
   ],
   "source": [
    "b(4)"
   ]
  },
  {
   "cell_type": "code",
   "execution_count": 46,
   "id": "150ed2c5",
   "metadata": {},
   "outputs": [
    {
     "data": {
      "text/plain": [
       "'given number is even'"
      ]
     },
     "execution_count": 46,
     "metadata": {},
     "output_type": "execute_result"
    }
   ],
   "source": [
    "check_even(5)"
   ]
  },
  {
   "cell_type": "code",
   "execution_count": 53,
   "id": "97a2ecc4",
   "metadata": {},
   "outputs": [
    {
     "data": {
      "text/plain": [
       "10302"
      ]
     },
     "execution_count": 53,
     "metadata": {},
     "output_type": "execute_result"
    }
   ],
   "source": [
    "3434*3"
   ]
  },
  {
   "cell_type": "code",
   "execution_count": 57,
   "id": "ac03e4c9",
   "metadata": {},
   "outputs": [],
   "source": [
    "l=[2,34,6,7,9]\n",
    "min_list=lambda li : min(li)"
   ]
  },
  {
   "cell_type": "code",
   "execution_count": 61,
   "id": "ba1c4d2f",
   "metadata": {},
   "outputs": [
    {
     "data": {
      "text/plain": [
       "2"
      ]
     },
     "execution_count": 61,
     "metadata": {},
     "output_type": "execute_result"
    }
   ],
   "source": [
    "min_list(l)"
   ]
  },
  {
   "cell_type": "code",
   "execution_count": 63,
   "id": "c48e27b4",
   "metadata": {},
   "outputs": [],
   "source": [
    "div=lambda a,b:a/b"
   ]
  },
  {
   "cell_type": "code",
   "execution_count": null,
   "id": "ab3eb996",
   "metadata": {},
   "outputs": [],
   "source": []
  },
  {
   "cell_type": "code",
   "execution_count": 64,
   "id": "e2aa993f",
   "metadata": {},
   "outputs": [],
   "source": [
    "def check_even(n):\n",
    "    if n%2==0: \"given number is even\"\n",
    "    else:\n",
    "            return \"given number is even\""
   ]
  },
  {
   "cell_type": "code",
   "execution_count": 66,
   "id": "32ae8469",
   "metadata": {},
   "outputs": [
    {
     "data": {
      "text/plain": [
       "'given number is even'"
      ]
     },
     "execution_count": 66,
     "metadata": {},
     "output_type": "execute_result"
    }
   ],
   "source": [
    "check_even(3)"
   ]
  },
  {
   "cell_type": "code",
   "execution_count": 67,
   "id": "b153a9c4",
   "metadata": {},
   "outputs": [],
   "source": [
    "div=lambda a,b:a/b"
   ]
  },
  {
   "cell_type": "code",
   "execution_count": 68,
   "id": "df487d5b",
   "metadata": {},
   "outputs": [
    {
     "data": {
      "text/plain": [
       "0.8333333333333334"
      ]
     },
     "execution_count": 68,
     "metadata": {},
     "output_type": "execute_result"
    }
   ],
   "source": [
    "div(5,6)"
   ]
  },
  {
   "cell_type": "code",
   "execution_count": 69,
   "id": "b6dfc8a2",
   "metadata": {},
   "outputs": [],
   "source": [
    "upper=lambda s: s.upper()"
   ]
  },
  {
   "cell_type": "code",
   "execution_count": 70,
   "id": "762da676",
   "metadata": {},
   "outputs": [
    {
     "data": {
      "text/plain": [
       "'SHAHAHNSHA'"
      ]
     },
     "execution_count": 70,
     "metadata": {},
     "output_type": "execute_result"
    }
   ],
   "source": [
    "upper(\"shahahnsha\")"
   ]
  },
  {
   "cell_type": "code",
   "execution_count": 75,
   "id": "53d62cea",
   "metadata": {},
   "outputs": [],
   "source": [
    "l = [2, 3, 45, 3, 56, 3]\n",
    "\n",
    "def sum_odd(b):\n",
    "    l1 = []\n",
    "    for i in b:\n",
    "        if i % 2 != 0:\n",
    "            l1.append(i)\n",
    "    return sum(l1)\n",
    "\n",
    "\n"
   ]
  },
  {
   "cell_type": "code",
   "execution_count": 76,
   "id": "3126eda9",
   "metadata": {},
   "outputs": [
    {
     "name": "stdout",
     "output_type": "stream",
     "text": [
      "54\n"
     ]
    }
   ],
   "source": [
    "result = sum_odd(l)\n",
    "print(result)"
   ]
  },
  {
   "cell_type": "code",
   "execution_count": 80,
   "id": "8eeed7fd",
   "metadata": {},
   "outputs": [
    {
     "ename": "SyntaxError",
     "evalue": "expected ':' (178028760.py, line 2)",
     "output_type": "error",
     "traceback": [
      "\u001b[0;36m  Cell \u001b[0;32mIn[80], line 2\u001b[0;36m\u001b[0m\n\u001b[0;31m    def sum_odd(b)\u001b[0m\n\u001b[0m                  ^\u001b[0m\n\u001b[0;31mSyntaxError\u001b[0m\u001b[0;31m:\u001b[0m expected ':'\n"
     ]
    }
   ],
   "source": [
    "l=[2,3,45,3,56,3]\n",
    "def sum_odd(b)\n",
    "    l1=[]\n",
    "for i in b:\n",
    "    if i%2!=0:\n",
    "        l1.append(i)\n",
    "    return sum(l1)"
   ]
  },
  {
   "cell_type": "code",
   "execution_count": 85,
   "id": "168eef68",
   "metadata": {},
   "outputs": [
    {
     "ename": "IndentationError",
     "evalue": "unexpected indent (3242266790.py, line 2)",
     "output_type": "error",
     "traceback": [
      "\u001b[0;36m  Cell \u001b[0;32mIn[85], line 2\u001b[0;36m\u001b[0m\n\u001b[0;31m    def sum_odd(b)\u001b[0m\n\u001b[0m    ^\u001b[0m\n\u001b[0;31mIndentationError\u001b[0m\u001b[0;31m:\u001b[0m unexpected indent\n"
     ]
    }
   ],
   "source": [
    "l=[2,3,45,3,56,3]\n",
    "  def sum_odd(b)\n",
    "    l1=[]\n",
    "    for i in b:"
   ]
  },
  {
   "cell_type": "code",
   "execution_count": 4,
   "id": "f9429f27",
   "metadata": {},
   "outputs": [],
   "source": [
    "l=[2,3,4,5,78,9,5,3,4]\n",
    "def sum_odd(b):\n",
    "    l1=[]\n",
    "    for i in b :\n",
    "        if i%2!=0:\n",
    "            l1.append(i)\n",
    "            return sum(l1)\n",
    "    result=sum_odd(l)\n",
    "    print(result)"
   ]
  },
  {
   "cell_type": "code",
   "execution_count": 3,
   "id": "2cd93d2e",
   "metadata": {},
   "outputs": [
    {
     "name": "stdout",
     "output_type": "stream",
     "text": [
      "25\n"
     ]
    }
   ],
   "source": [
    "l = [2, 3, 4, 5, 78, 9, 5, 3, 4]\n",
    "\n",
    "def sum_odd(b):\n",
    "    l1 = []\n",
    "    for i in b:\n",
    "        if i % 2 != 0:\n",
    "            l1.append(i)\n",
    "    return sum(l1)\n",
    "\n",
    "result = sum_odd(l)\n",
    "print(result)\n"
   ]
  },
  {
   "cell_type": "code",
   "execution_count": 5,
   "id": "02bb63e5",
   "metadata": {},
   "outputs": [
    {
     "name": "stdout",
     "output_type": "stream",
     "text": [
      "[1, 3, 5, 7, 9]\n"
     ]
    }
   ],
   "source": [
    "result = [i for i in range(1, 11) if i % 2 != 0]\n",
    "print(result)\n"
   ]
  },
  {
   "cell_type": "code",
   "execution_count": 6,
   "id": "13c40daa",
   "metadata": {},
   "outputs": [],
   "source": [
    "sum_of_lambda=lambda b: sum([i for i in b if i%2!=0])"
   ]
  },
  {
   "cell_type": "code",
   "execution_count": 8,
   "id": "56607438",
   "metadata": {},
   "outputs": [
    {
     "data": {
      "text/plain": [
       "25"
      ]
     },
     "execution_count": 8,
     "metadata": {},
     "output_type": "execute_result"
    }
   ],
   "source": [
    "sum_of_lambda(l)"
   ]
  },
  {
   "cell_type": "code",
   "execution_count": 9,
   "id": "14058dbb",
   "metadata": {},
   "outputs": [],
   "source": [
    "def fact_number(n):\n",
    "    if n==0:\n",
    "        return 1\n",
    "    else :\n",
    "        return n*fact_number(n-1)"
   ]
  },
  {
   "cell_type": "code",
   "execution_count": 11,
   "id": "20e78cd0",
   "metadata": {},
   "outputs": [
    {
     "data": {
      "text/plain": [
       "24"
      ]
     },
     "execution_count": 11,
     "metadata": {},
     "output_type": "execute_result"
    }
   ],
   "source": [
    "fact_number(4)"
   ]
  },
  {
   "cell_type": "code",
   "execution_count": 9,
   "id": "2afdbbe5",
   "metadata": {},
   "outputs": [],
   "source": [
    "def fact_number(n):\n",
    "    a=1\n",
    "    for i in range (1,n+1):\n",
    "        a=i*a\n",
    "    return a"
   ]
  },
  {
   "cell_type": "code",
   "execution_count": 10,
   "id": "a1cae917",
   "metadata": {},
   "outputs": [
    {
     "data": {
      "text/plain": [
       "24"
      ]
     },
     "execution_count": 10,
     "metadata": {},
     "output_type": "execute_result"
    }
   ],
   "source": [
    "fact_number(4)"
   ]
  },
  {
   "cell_type": "code",
   "execution_count": 18,
   "id": "2bb4f4d0",
   "metadata": {},
   "outputs": [],
   "source": [
    "def fact_number(n):\n",
    "    a=1\n",
    "    for i in range (a,n+1):\n",
    "        a=i*a\n",
    "    return a"
   ]
  },
  {
   "cell_type": "code",
   "execution_count": 19,
   "id": "3d004125",
   "metadata": {},
   "outputs": [
    {
     "data": {
      "text/plain": [
       "24"
      ]
     },
     "execution_count": 19,
     "metadata": {},
     "output_type": "execute_result"
    }
   ],
   "source": [
    "fact_number(4)"
   ]
  },
  {
   "cell_type": "code",
   "execution_count": 23,
   "id": "db450825",
   "metadata": {},
   "outputs": [],
   "source": [
    "def d(n):\n",
    "    a=1\n",
    "    for i in range (a,n+1):\n",
    "         a=i+a\n",
    "    return a"
   ]
  },
  {
   "cell_type": "code",
   "execution_count": 25,
   "id": "9618f823",
   "metadata": {},
   "outputs": [
    {
     "data": {
      "text/plain": [
       "24"
      ]
     },
     "execution_count": 25,
     "metadata": {},
     "output_type": "execute_result"
    }
   ],
   "source": [
    "fact_number(4)"
   ]
  },
  {
   "cell_type": "code",
   "execution_count": 26,
   "id": "c8d45547",
   "metadata": {},
   "outputs": [],
   "source": [
    "fact_number=lambda n : 1 if n ==0 else n*fact_number_lambda(n-1)"
   ]
  },
  {
   "cell_type": "code",
   "execution_count": 29,
   "id": "6a0bd586",
   "metadata": {},
   "outputs": [
    {
     "ename": "SyntaxError",
     "evalue": "invalid syntax (1554350596.py, line 1)",
     "output_type": "error",
     "traceback": [
      "\u001b[0;36m  Cell \u001b[0;32mIn[29], line 1\u001b[0;36m\u001b[0m\n\u001b[0;31m    fact_number(4):\u001b[0m\n\u001b[0m                  ^\u001b[0m\n\u001b[0;31mSyntaxError\u001b[0m\u001b[0;31m:\u001b[0m invalid syntax\n"
     ]
    }
   ],
   "source": [
    "fact_number(4):"
   ]
  },
  {
   "cell_type": "code",
   "execution_count": 34,
   "id": "ae440799",
   "metadata": {},
   "outputs": [
    {
     "name": "stdout",
     "output_type": "stream",
     "text": [
      "[7, 8, 6, 37, 6]\n"
     ]
    }
   ],
   "source": [
    "i = [5, 6, 4, 35, 4]\n",
    "i1 = []\n",
    "\n",
    "for num in i:\n",
    "    i1.append(num + 2)\n",
    "\n",
    "print(i1)\n"
   ]
  },
  {
   "cell_type": "code",
   "execution_count": 47,
   "id": "b68fb290",
   "metadata": {},
   "outputs": [
    {
     "name": "stdout",
     "output_type": "stream",
     "text": [
      "[3, 4, 5, 6, 7]\n"
     ]
    }
   ],
   "source": [
    "def add_list(l):\n",
    "    l1 = []\n",
    "    for i in l:\n",
    "        l1.append(i + 2)\n",
    "    return l1\n",
    "\n",
    "# Example usage:\n",
    "my_list = [1, 2, 3, 4, 5]\n",
    "result = add_list(my_list)\n",
    "print(result)\n"
   ]
  },
  {
   "cell_type": "code",
   "execution_count": 48,
   "id": "c17e6fbf",
   "metadata": {},
   "outputs": [],
   "source": [
    "def add_list(l):\n",
    "    l1=[]\n",
    "    for i in l:\n",
    "        l1.appendp(i+2)\n",
    "        return l1"
   ]
  },
  {
   "cell_type": "code",
   "execution_count": 49,
   "id": "43f7adf8",
   "metadata": {},
   "outputs": [],
   "source": [
    "my_list = [1, 2, 3, 4, 5]"
   ]
  },
  {
   "cell_type": "code",
   "execution_count": 50,
   "id": "f90f7c53",
   "metadata": {},
   "outputs": [
    {
     "name": "stdout",
     "output_type": "stream",
     "text": [
      "[1, 2, 3, 4, 5]\n"
     ]
    }
   ],
   "source": [
    "print(my_list)"
   ]
  },
  {
   "cell_type": "code",
   "execution_count": 51,
   "id": "fbfbb113",
   "metadata": {},
   "outputs": [],
   "source": [
    "my_list =( [1, 2, 3, 4, 5])\n",
    "\n",
    "                            "
   ]
  },
  {
   "cell_type": "code",
   "execution_count": 52,
   "id": "685ef591",
   "metadata": {},
   "outputs": [
    {
     "data": {
      "text/plain": [
       "[1, 2, 3, 4, 5]"
      ]
     },
     "execution_count": 52,
     "metadata": {},
     "output_type": "execute_result"
    }
   ],
   "source": [
    "my_list"
   ]
  },
  {
   "cell_type": "code",
   "execution_count": 53,
   "id": "f98d414e",
   "metadata": {},
   "outputs": [],
   "source": [
    "v=lambda a:a+2"
   ]
  },
  {
   "cell_type": "code",
   "execution_count": 56,
   "id": "5768bf9b",
   "metadata": {},
   "outputs": [
    {
     "data": {
      "text/plain": [
       "25"
      ]
     },
     "execution_count": 56,
     "metadata": {},
     "output_type": "execute_result"
    }
   ],
   "source": [
    "v(23)"
   ]
  },
  {
   "cell_type": "code",
   "execution_count": 58,
   "id": "4d06d7bb",
   "metadata": {},
   "outputs": [],
   "source": [
    "def test34(c):\n",
    "    return c+2\n"
   ]
  },
  {
   "cell_type": "code",
   "execution_count": 66,
   "id": "fd6f283f",
   "metadata": {},
   "outputs": [
    {
     "data": {
      "text/plain": [
       "[3]"
      ]
     },
     "execution_count": 66,
     "metadata": {},
     "output_type": "execute_result"
    }
   ],
   "source": [
    "list(map(test34,[1]))"
   ]
  },
  {
   "cell_type": "code",
   "execution_count": 64,
   "id": "ff97536c",
   "metadata": {},
   "outputs": [
    {
     "name": "stdout",
     "output_type": "stream",
     "text": [
      "[3]\n"
     ]
    }
   ],
   "source": [
    "def test34(c):\n",
    "    return c + 2\n",
    "\n",
    "result_list = list(map(test34, [1]))\n",
    "print(result_list)\n"
   ]
  },
  {
   "cell_type": "code",
   "execution_count": 67,
   "id": "a9cc64ac",
   "metadata": {},
   "outputs": [],
   "source": [
    "l=[\"sjajhs\",\"sofyan\",\"pwskddill\"]"
   ]
  },
  {
   "cell_type": "code",
   "execution_count": 1,
   "id": "9b0f90df",
   "metadata": {},
   "outputs": [
    {
     "data": {
      "text/plain": [
       "6"
      ]
     },
     "execution_count": 1,
     "metadata": {},
     "output_type": "execute_result"
    }
   ],
   "source": [
    "len(\"sjajhs\")"
   ]
  },
  {
   "cell_type": "code",
   "execution_count": 2,
   "id": "e35d1b43",
   "metadata": {},
   "outputs": [
    {
     "data": {
      "text/plain": [
       "6"
      ]
     },
     "execution_count": 2,
     "metadata": {},
     "output_type": "execute_result"
    }
   ],
   "source": [
    "len(\"sofyan\")"
   ]
  },
  {
   "cell_type": "code",
   "execution_count": 3,
   "id": "9d0ca273",
   "metadata": {},
   "outputs": [
    {
     "data": {
      "text/plain": [
       "9"
      ]
     },
     "execution_count": 3,
     "metadata": {},
     "output_type": "execute_result"
    }
   ],
   "source": [
    "len(\"pwskddill\")"
   ]
  },
  {
   "cell_type": "code",
   "execution_count": 9,
   "id": "ddb68d9d",
   "metadata": {},
   "outputs": [
    {
     "data": {
      "text/plain": [
       "[4, 5, 8]"
      ]
     },
     "execution_count": 9,
     "metadata": {},
     "output_type": "execute_result"
    }
   ],
   "source": [
    "[4,5,8]"
   ]
  },
  {
   "cell_type": "code",
   "execution_count": 10,
   "id": "fc6f617a",
   "metadata": {},
   "outputs": [],
   "source": [
    "l1 = []\n",
    "\n",
    "for i in l1:\n",
    "    l1.append(len(i))\n",
    "\n",
    "\n"
   ]
  },
  {
   "cell_type": "code",
   "execution_count": 47,
   "id": "4fa1a3de",
   "metadata": {},
   "outputs": [],
   "source": [
    "l=[\"shh\",\"jdid\",\"kaka\"]"
   ]
  },
  {
   "cell_type": "code",
   "execution_count": 46,
   "id": "cc4e9d0f",
   "metadata": {},
   "outputs": [],
   "source": [
    "len=[2,3,5,6]"
   ]
  },
  {
   "cell_type": "code",
   "execution_count": 31,
   "id": "0d332033",
   "metadata": {},
   "outputs": [
    {
     "data": {
      "text/plain": [
       "9"
      ]
     },
     "execution_count": 31,
     "metadata": {},
     "output_type": "execute_result"
    }
   ],
   "source": [
    "4+5"
   ]
  },
  {
   "cell_type": "code",
   "execution_count": 33,
   "id": "9cd2425a",
   "metadata": {},
   "outputs": [],
   "source": [
    "l=[\"mohammad\",\"shahansha\",\"sofyan\"]"
   ]
  },
  {
   "cell_type": "code",
   "execution_count": 34,
   "id": "d702d5d0",
   "metadata": {},
   "outputs": [
    {
     "data": {
      "text/plain": [
       "['mohammad', 'shahansha', 'sofyan']"
      ]
     },
     "execution_count": 34,
     "metadata": {},
     "output_type": "execute_result"
    }
   ],
   "source": [
    "l"
   ]
  },
  {
   "cell_type": "code",
   "execution_count": 35,
   "id": "075f9d58",
   "metadata": {},
   "outputs": [
    {
     "data": {
      "text/plain": [
       "['sofyan', 'shahansha', 'mohammad']"
      ]
     },
     "execution_count": 35,
     "metadata": {},
     "output_type": "execute_result"
    }
   ],
   "source": [
    "l[::-1]"
   ]
  },
  {
   "cell_type": "code",
   "execution_count": 41,
   "id": "67b1d3ef",
   "metadata": {},
   "outputs": [],
   "source": [
    "s=\"shahanshah\""
   ]
  },
  {
   "cell_type": "code",
   "execution_count": 42,
   "id": "16cb4dc7",
   "metadata": {},
   "outputs": [
    {
     "data": {
      "text/plain": [
       "'hahsnahahs'"
      ]
     },
     "execution_count": 42,
     "metadata": {},
     "output_type": "execute_result"
    }
   ],
   "source": [
    "s[::-1]"
   ]
  },
  {
   "cell_type": "code",
   "execution_count": 43,
   "id": "d097f9f8",
   "metadata": {},
   "outputs": [
    {
     "data": {
      "text/plain": [
       "['dammahom', 'ahsnahahs', 'nayfos']"
      ]
     },
     "execution_count": 43,
     "metadata": {},
     "output_type": "execute_result"
    }
   ],
   "source": [
    "list(map(lambda a: a[::-1],l))"
   ]
  },
  {
   "cell_type": "code",
   "execution_count": 56,
   "id": "ee75dd9f",
   "metadata": {},
   "outputs": [],
   "source": [
    "l=[1,23,5,6,3]\n",
    "from functools import reduce"
   ]
  },
  {
   "cell_type": "code",
   "execution_count": 58,
   "id": "f93ea35c",
   "metadata": {},
   "outputs": [
    {
     "data": {
      "text/plain": [
       "2070"
      ]
     },
     "execution_count": 58,
     "metadata": {},
     "output_type": "execute_result"
    }
   ],
   "source": [
    "reduce(lambda a,b:a*b,l)"
   ]
  },
  {
   "cell_type": "code",
   "execution_count": 61,
   "id": "fa555b75",
   "metadata": {},
   "outputs": [],
   "source": [
    "l=[1,2,3,4]\n",
    "from functools import reduce"
   ]
  },
  {
   "cell_type": "code",
   "execution_count": 63,
   "id": "d5b86269",
   "metadata": {},
   "outputs": [
    {
     "data": {
      "text/plain": [
       "24"
      ]
     },
     "execution_count": 63,
     "metadata": {},
     "output_type": "execute_result"
    }
   ],
   "source": [
    "reduce(lambda a,b:a*b,l)"
   ]
  },
  {
   "cell_type": "code",
   "execution_count": 64,
   "id": "8bcfb012",
   "metadata": {},
   "outputs": [
    {
     "data": {
      "text/plain": [
       "[1, 2, 3, 4]"
      ]
     },
     "execution_count": 64,
     "metadata": {},
     "output_type": "execute_result"
    }
   ],
   "source": [
    "l"
   ]
  },
  {
   "cell_type": "code",
   "execution_count": 65,
   "id": "e82e2599",
   "metadata": {},
   "outputs": [
    {
     "data": {
      "text/plain": [
       "1"
      ]
     },
     "execution_count": 65,
     "metadata": {},
     "output_type": "execute_result"
    }
   ],
   "source": [
    "min(l)"
   ]
  },
  {
   "cell_type": "code",
   "execution_count": 66,
   "id": "2b0b9824",
   "metadata": {},
   "outputs": [
    {
     "data": {
      "text/plain": [
       "4"
      ]
     },
     "execution_count": 66,
     "metadata": {},
     "output_type": "execute_result"
    }
   ],
   "source": [
    "max(l)"
   ]
  },
  {
   "cell_type": "code",
   "execution_count": 69,
   "id": "236a6356",
   "metadata": {},
   "outputs": [
    {
     "data": {
      "text/plain": [
       "4"
      ]
     },
     "execution_count": 69,
     "metadata": {},
     "output_type": "execute_result"
    }
   ],
   "source": [
    "reduce(lambda a,b:a if a>b else b,l)"
   ]
  },
  {
   "cell_type": "code",
   "execution_count": 86,
   "id": "f0f1e5c5",
   "metadata": {},
   "outputs": [],
   "source": [
    "n=5\n",
    "fact =reduce(lambda a,b:a*b,range(1,n+1))"
   ]
  },
  {
   "cell_type": "code",
   "execution_count": 87,
   "id": "937da8fc",
   "metadata": {},
   "outputs": [
    {
     "data": {
      "text/plain": [
       "120"
      ]
     },
     "execution_count": 87,
     "metadata": {},
     "output_type": "execute_result"
    }
   ],
   "source": [
    "fact"
   ]
  },
  {
   "cell_type": "code",
   "execution_count": 91,
   "id": "bed444f5",
   "metadata": {},
   "outputs": [],
   "source": [
    "a=6\n",
    "def test(a,b):\n",
    "    return a*b"
   ]
  },
  {
   "cell_type": "code",
   "execution_count": 92,
   "id": "ce84aafd",
   "metadata": {},
   "outputs": [],
   "source": [
    "fact=reduce(test,range(1,a+1))"
   ]
  },
  {
   "cell_type": "code",
   "execution_count": 93,
   "id": "4b3ceba3",
   "metadata": {},
   "outputs": [
    {
     "data": {
      "text/plain": [
       "720"
      ]
     },
     "execution_count": 93,
     "metadata": {},
     "output_type": "execute_result"
    }
   ],
   "source": [
    "fact"
   ]
  },
  {
   "cell_type": "code",
   "execution_count": 94,
   "id": "9ad7a1fb",
   "metadata": {},
   "outputs": [
    {
     "data": {
      "text/plain": [
       "[1, 2, 3, 4]"
      ]
     },
     "execution_count": 94,
     "metadata": {},
     "output_type": "execute_result"
    }
   ],
   "source": [
    "l"
   ]
  },
  {
   "cell_type": "code",
   "execution_count": 96,
   "id": "1772e177",
   "metadata": {},
   "outputs": [
    {
     "data": {
      "text/plain": [
       "[2, 4]"
      ]
     },
     "execution_count": 96,
     "metadata": {},
     "output_type": "execute_result"
    }
   ],
   "source": [
    "[i for i in l if i%2==0]"
   ]
  },
  {
   "cell_type": "code",
   "execution_count": 97,
   "id": "70076a60",
   "metadata": {},
   "outputs": [
    {
     "data": {
      "text/plain": [
       "8"
      ]
     },
     "execution_count": 97,
     "metadata": {},
     "output_type": "execute_result"
    }
   ],
   "source": [
    "reduce(lambda a,b: a*b, [i for i in l if i%2==0])"
   ]
  },
  {
   "cell_type": "code",
   "execution_count": 100,
   "id": "ff555c24",
   "metadata": {},
   "outputs": [],
   "source": [
    "l=[2,2,46,8,33,7,9,6,3,5,34]"
   ]
  },
  {
   "cell_type": "code",
   "execution_count": 102,
   "id": "61b6d75a",
   "metadata": {},
   "outputs": [
    {
     "data": {
      "text/plain": [
       "[2, 2, 46, 8, 6, 34]"
      ]
     },
     "execution_count": 102,
     "metadata": {},
     "output_type": "execute_result"
    }
   ],
   "source": [
    "list(filter(lambda a: a%2==0,l))"
   ]
  },
  {
   "cell_type": "code",
   "execution_count": 103,
   "id": "60afc90a",
   "metadata": {},
   "outputs": [],
   "source": [
    "s=\"pw skill\""
   ]
  },
  {
   "cell_type": "code",
   "execution_count": 104,
   "id": "f2eaecdf",
   "metadata": {},
   "outputs": [
    {
     "data": {
      "text/plain": [
       "['p', 'w', 's', 'k', 'i', 'l', 'l']"
      ]
     },
     "execution_count": 104,
     "metadata": {},
     "output_type": "execute_result"
    }
   ],
   "source": [
    "list(filter(lambda a:a.islower(),s))"
   ]
  },
  {
   "cell_type": "code",
   "execution_count": 117,
   "id": "cdea2eae",
   "metadata": {},
   "outputs": [],
   "source": [
    "l=[\"pw skill\",\"shahah\",\"mohammad\",\"sofyan\"]"
   ]
  },
  {
   "cell_type": "code",
   "execution_count": 119,
   "id": "35980ce3",
   "metadata": {},
   "outputs": [
    {
     "data": {
      "text/plain": [
       "['pw skill', 'shahah', 'mohammad', 'sofyan']"
      ]
     },
     "execution_count": 119,
     "metadata": {},
     "output_type": "execute_result"
    }
   ],
   "source": [
    "l"
   ]
  },
  {
   "cell_type": "code",
   "execution_count": 121,
   "id": "4a464b91",
   "metadata": {},
   "outputs": [
    {
     "data": {
      "text/plain": [
       "['pw skill']"
      ]
     },
     "execution_count": 121,
     "metadata": {},
     "output_type": "execute_result"
    }
   ],
   "source": [
    "list(filter(lambda a:a[0]==\"p\",l))"
   ]
  },
  {
   "cell_type": "code",
   "execution_count": 129,
   "id": "4bb86cb5",
   "metadata": {},
   "outputs": [],
   "source": [
    "def gen_fib(n):\n",
    "    if n<=1:\n",
    "        return n\n",
    "    else: \n",
    "        return gen_fib(n-1)+ gen_fib(n-2)"
   ]
  },
  {
   "cell_type": "code",
   "execution_count": 138,
   "id": "a2faf34d",
   "metadata": {},
   "outputs": [
    {
     "data": {
      "text/plain": [
       "3"
      ]
     },
     "execution_count": 138,
     "metadata": {},
     "output_type": "execute_result"
    }
   ],
   "source": [
    "gen_fib(4)"
   ]
  },
  {
   "cell_type": "code",
   "execution_count": null,
   "id": "6a3f2d86",
   "metadata": {},
   "outputs": [],
   "source": [
    "100--"
   ]
  },
  {
   "cell_type": "code",
   "execution_count": 148,
   "id": "cc642321",
   "metadata": {},
   "outputs": [],
   "source": [
    "def sum_till_n(n):\n",
    "    if n==1:\n",
    "        return 1\n",
    "    else:\n",
    "        return n+ sum_till_n(n-1)"
   ]
  },
  {
   "cell_type": "code",
   "execution_count": 150,
   "id": "3a3b2454",
   "metadata": {},
   "outputs": [
    {
     "data": {
      "text/plain": [
       "15"
      ]
     },
     "execution_count": 150,
     "metadata": {},
     "output_type": "execute_result"
    }
   ],
   "source": [
    "sum_till_n(5)"
   ]
  },
  {
   "cell_type": "markdown",
   "id": "4b400a96",
   "metadata": {},
   "source": [
    "# sesson end"
   ]
  },
  {
   "cell_type": "code",
   "execution_count": null,
   "id": "a0e70834",
   "metadata": {},
   "outputs": [],
   "source": []
  }
 ],
 "metadata": {
  "kernelspec": {
   "display_name": "Python 3 (ipykernel)",
   "language": "python",
   "name": "python3"
  },
  "language_info": {
   "codemirror_mode": {
    "name": "ipython",
    "version": 3
   },
   "file_extension": ".py",
   "mimetype": "text/x-python",
   "name": "python",
   "nbconvert_exporter": "python",
   "pygments_lexer": "ipython3",
   "version": "3.11.5"
  }
 },
 "nbformat": 4,
 "nbformat_minor": 5
}
